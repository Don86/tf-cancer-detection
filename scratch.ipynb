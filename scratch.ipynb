{
 "cells": [
  {
   "cell_type": "code",
   "execution_count": 17,
   "metadata": {},
   "outputs": [],
   "source": [
    "%matplotlib inline\n",
    "import matplotlib.pyplot as plt\n",
    "\n",
    "import numpy as np\n",
    "import pandas as pd\n",
    "import os\n",
    "import cv2\n",
    "\n",
    "# first 3 are condition0\n",
    "selected_names_ls = [\"755db6279dae599ebb4d39a9123cce439965282d.tif\",\n",
    "                     \"f38a6374c348f90b587e046aac6079959adf3835.tif\",\n",
    "                     \"acfe80838488fae3c89bd21ade75be5c34e66be7.tif\",\n",
    "                     \"c18f2d887b7ae4f6742ee445113fa1aef383ed77.tif\",\n",
    "                    \"c3d660212bf2a11c994e0eadff13770a9927b731.tif\",\n",
    "                    \"94fa32b29cc1c00403176c0795fffa3cfaa0f20e.tif\"]"
   ]
  },
  {
   "cell_type": "code",
   "execution_count": 27,
   "metadata": {},
   "outputs": [],
   "source": [
    "img_data_ls = []\n",
    "fn_ls = os.listdir(\"data/train/\")\n",
    "for fn in fn_ls:\n",
    "    if fn in selected_names_ls:\n",
    "        img = cv2.imread(\"data/train/\"+fn)\n",
    "        img_data_ls.append(img)"
   ]
  },
  {
   "cell_type": "code",
   "execution_count": 24,
   "metadata": {},
   "outputs": [],
   "source": []
  },
  {
   "cell_type": "code",
   "execution_count": null,
   "metadata": {},
   "outputs": [],
   "source": [
    "# Four axes, returned as a 2-d array\n",
    "f, axarr = plt.subplots(3, 2)\n",
    "\n",
    "axarr[0, 0].imshow(selected_names_ls[0]+\".tif\")\n",
    "axarr[0, 0].set_title('Axis [0,0]')\n",
    "axarr[0, 1].scatter(x, y)\n",
    "axarr[0, 1].set_title('Axis [0,1]')\n",
    "axarr[1, 0].plot(x, y ** 2)\n",
    "axarr[1, 0].set_title('Axis [1,0]')\n",
    "axarr[1, 1].scatter(x, y ** 2)\n",
    "axarr[1, 1].set_title('Axis [1,1]')\n",
    "# Fine-tune figure; hide x ticks for top plots and y ticks for right plots\n",
    "plt.setp([a.get_xticklabels() for a in axarr[0, :]], visible=False)\n",
    "plt.setp([a.get_yticklabels() for a in axarr[:, 1]], visible=False)"
   ]
  }
 ],
 "metadata": {
  "kernelspec": {
   "display_name": "Python 3",
   "language": "python",
   "name": "python3"
  },
  "language_info": {
   "codemirror_mode": {
    "name": "ipython",
    "version": 3
   },
   "file_extension": ".py",
   "mimetype": "text/x-python",
   "name": "python",
   "nbconvert_exporter": "python",
   "pygments_lexer": "ipython3",
   "version": "3.7.1"
  }
 },
 "nbformat": 4,
 "nbformat_minor": 2
}
